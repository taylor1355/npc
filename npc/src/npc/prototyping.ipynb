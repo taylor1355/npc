{
 "cells": [
  {
   "cell_type": "code",
   "execution_count": 1,
   "metadata": {},
   "outputs": [],
   "source": [
    "%load_ext autoreload\n",
    "%autoreload 2\n",
    "\n",
    "import pprint\n",
    "import sys\n",
    "import textwrap"
   ]
  },
  {
   "cell_type": "code",
   "execution_count": 2,
   "metadata": {},
   "outputs": [
    {
     "name": "stderr",
     "output_type": "stream",
     "text": [
      "/home/taylor/projects/npcs/npc/.venv/lib/python3.11/site-packages/tqdm/auto.py:21: TqdmWarning: IProgress not found. Please update jupyter and ipywidgets. See https://ipywidgets.readthedocs.io/en/stable/user_install.html\n",
      "  from .autonotebook import tqdm as notebook_tqdm\n"
     ]
    },
    {
     "name": "stdout",
     "output_type": "stream",
     "text": [
      "LLM is explicitly disabled. Using MockLLM.\n"
     ]
    }
   ],
   "source": [
    "import config\n",
    "from dataclasses import dataclass\n",
    "\n",
    "from llama_index.core import Document, Settings, VectorStoreIndex, ChatPromptTemplate\n",
    "from llama_index.core.retrievers import VectorIndexRetriever\n",
    "from llama_index.embeddings.huggingface import HuggingFaceEmbedding\n",
    "from llama_index.llms.anthropic import Anthropic\n",
    "from npc.prompts import NpcPrompt\n",
    "from npc.prompts.common import Prompt\n",
    "\n",
    "api_keys = config.Config(\"../../../api_keys.cfg\")\n",
    "\n",
    "Settings.llm = None"
   ]
  },
  {
   "cell_type": "code",
   "execution_count": 3,
   "metadata": {},
   "outputs": [],
   "source": [
    "anthropic_api_key = api_keys[\"ANTHROPIC_API_KEY\"]\n",
    "small_llm = Anthropic(model=\"claude-3-haiku-20240307\", api_key=anthropic_api_key, max_tokens=4096)"
   ]
  },
  {
   "cell_type": "code",
   "execution_count": 4,
   "metadata": {},
   "outputs": [],
   "source": [
    "# response = small_llm.complete(\"What is the square root of 44? Manually do this using Newton's method.\")\n",
    "# response_text = response.text\n",
    "# print(response_text)"
   ]
  },
  {
   "cell_type": "markdown",
   "metadata": {},
   "source": [
    "# NPC Agent POC"
   ]
  },
  {
   "cell_type": "code",
   "execution_count": 5,
   "metadata": {},
   "outputs": [],
   "source": [
    "from npc.interfaces import SimulatorInterface, SimulatorResponse, SimulatorRequest\n",
    "from npc.llm_response_generator import LLMResponseGenerator"
   ]
  },
  {
   "cell_type": "code",
   "execution_count": 6,
   "metadata": {},
   "outputs": [],
   "source": [
    "# test_working_memory = (\n",
    "#     \"I am walking through a forest. The trees are tall and the air is fresh. I feel a sense of peace and tranquility.\",\n",
    "# )\n",
    "# test_observations = (\n",
    "#     \"I notice a squirrel running up a tree. The sunlight filters through the leaves, creating dappled patterns on the ground.\",\n",
    "#     \"I hear the chirping of birds and the rustling of leaves in the gentle breeze.\",\n",
    "#     \"I feel the coolness of the air on my skin and the softness of the ground beneath my feet.\",\n",
    "#     \"I smell the earthy scent of moss and the sweet fragrance of wildflowers.\",\n",
    "# )\n",
    "\n",
    "# # <query_1>peaceful forest walk</query_1>\n",
    "# # <query_2>tranquil woodland experience</query_2>\n",
    "# # <query_3>nature's sights and sounds</query_3>\n",
    "# # <query_4>sensations of outdoor environment</query_4>\n",
    "# # <query_5>childhood memories of forests</query_5>\n",
    "# # <query_6>relaxing outdoor activities</query_6>\n",
    "# # <query_7>wildlife in forest settings</query_7>\n",
    "# # <query_8>seasonal changes in forests</query_8>\n",
    "# # <query_9>favorite outdoor retreats</query_9>\n",
    "# # <query_10>environmental awareness and appreciation</query_10>\n",
    "# test_retrieved_memories = (\n",
    "#     \"I remember a peaceful forest walk I took last summer. The trees were tall and the air was fresh, creating a sense of tranquility.\",\n",
    "#     \"I recall a childhood memory of exploring a woodland area near my home. The sights and sounds of nature left a lasting impression on me.\",\n",
    "#     \"I have a vivid memory of a camping trip where I experienced the beauty of nature up close. The wildlife and seasonal changes were fascinating.\",\n",
    "#     \"I think back to a favorite outdoor retreat I visited with friends. The environmental awareness and appreciation we shared was memorable.\",\n",
    "# )"
   ]
  },
  {
   "cell_type": "code",
   "execution_count": 7,
   "metadata": {},
   "outputs": [],
   "source": [
    "# TODO: ask LLM to output in a structured reasoning template. Try to simplify the prompts (remove some of the less important items with claude's help)\n",
    "#       and incorporate others into reasoning steps\n",
    "\n",
    "# query_response_generator = LLMResponseGenerator(NpcPrompt.MEMORY_QUERY_FORMULATION.value, small_llm)\n",
    "# query_response = query_response_generator.generate_response(\n",
    "#     working_memory=test_working_memory,\n",
    "#     observations=test_observations,\n",
    "# )\n",
    "# pprint.pprint(query_response, width=120)"
   ]
  },
  {
   "cell_type": "code",
   "execution_count": 8,
   "metadata": {},
   "outputs": [],
   "source": [
    "# memory_report_synthesis_generator = LLMResponseGenerator(NpcPrompt.MEMORY_REPORT_SYNTHESIS.value, small_llm)\n",
    "# memory_report_synthesis_response = memory_report_synthesis_generator.generate_response(\n",
    "#     working_memory=test_working_memory,\n",
    "#     retrieved_memories=test_retrieved_memories,\n",
    "# )\n",
    "# pprint.pprint(memory_report_synthesis_response, width=120)"
   ]
  },
  {
   "cell_type": "code",
   "execution_count": 9,
   "metadata": {},
   "outputs": [],
   "source": [
    "# working_memory_generator = LLMResponseGenerator(NpcPrompt.WORKING_MEMORY_UPDATE.value, small_llm)\n",
    "# working_memory_response = working_memory_generator.generate_response(\n",
    "#     working_memory=test_working_memory,\n",
    "#     memory_report=memory_report_synthesis_response,\n",
    "# )\n",
    "# pprint.pprint(working_memory_response, width=120)"
   ]
  },
  {
   "cell_type": "code",
   "execution_count": 10,
   "metadata": {},
   "outputs": [],
   "source": [
    "# action_decision_generator = LLMResponseGenerator(NpcPrompt.ACTION_DECISION.value, small_llm)\n",
    "# action_decision_response = action_decision_generator.generate_response(\n",
    "#     working_memory=working_memory_response,\n",
    "#     actions=[\n",
    "#         \"1. Explore the forest to discover new sights and sounds.\",\n",
    "#         \"2. Sit down and meditate to deepen the sense of peace and tranquility.\",\n",
    "#         \"3. Take out a notebook and start sketching the trees and wildlife around you.\",\n",
    "#     ]\n",
    "# )\n",
    "# pprint.pprint(action_decision_response, width=120)"
   ]
  },
  {
   "cell_type": "code",
   "execution_count": 11,
   "metadata": {},
   "outputs": [],
   "source": [
    "class MemoryDatabase:\n",
    "    def __init__(self, initial_memories: list[str]):\n",
    "        self.index = VectorStoreIndex.from_documents(\n",
    "            [Document(text=memory) for memory in initial_memories],\n",
    "            embed_model=HuggingFaceEmbedding(model_name=\"BAAI/bge-small-en-v1.5\"),\n",
    "        )\n",
    "\n",
    "    def add_memories(self, memories: list[str]):\n",
    "        for memory in memories:\n",
    "            self.index.insert(Document(text=memory))\n",
    "    \n",
    "    def retrieve(self, query: str, top_k: int = 5):\n",
    "        retriever = VectorIndexRetriever(index=self.index, similarity_top_k=top_k)\n",
    "        return retriever.retrieve(query)\n",
    "\n",
    "\n",
    "@dataclass\n",
    "class LLMConfig:\n",
    "    small_llm: Anthropic\n",
    "    large_llm: Anthropic\n",
    "\n",
    "from npc.interfaces.text_adventure_interface import TextAdventureInterface\n",
    "from typing import Generic, TypeVar\n",
    "\n",
    "SimulatorRequestType = TypeVar('RequestType', bound=SimulatorRequest)\n",
    "SimulatorResponseType = TypeVar('ResponseType', bound=SimulatorResponse)\n",
    "SimulatorType = TypeVar('SimulatorType')\n",
    "\n",
    "class Agent(Generic[SimulatorRequestType, SimulatorResponseType, SimulatorType]):\n",
    "    def __init__(\n",
    "            self, \n",
    "            simulator_interface: SimulatorInterface[SimulatorRequestType, SimulatorResponseType, SimulatorType],\n",
    "            llm_config: LLMConfig,\n",
    "            initial_working_memory: str = \"\",\n",
    "            initial_long_term_memories: list[str] = [],\n",
    "        ):\n",
    "        self.simulator_interface = simulator_interface\n",
    "        self.prev_simulator_response = None\n",
    "\n",
    "        self.working_memory = initial_working_memory\n",
    "        self.long_term_memory = MemoryDatabase(initial_long_term_memories)\n",
    "        # TODO: need to represent personality and background. Use a couple different personality test results to give as reference, as well as some core background information\n",
    "\n",
    "        self.query_generator = LLMResponseGenerator(NpcPrompt.MEMORY_QUERY_FORMULATION.value, llm_config.small_llm)\n",
    "        self.memory_report_generator = LLMResponseGenerator(NpcPrompt.MEMORY_REPORT_SYNTHESIS.value, llm_config.small_llm)\n",
    "        self.working_memory_generator = LLMResponseGenerator(NpcPrompt.WORKING_MEMORY_UPDATE.value, llm_config.small_llm)\n",
    "        self.action_decision_generator = LLMResponseGenerator(NpcPrompt.ACTION_DECISION.value, llm_config.small_llm)\n",
    "\n",
    "    def update_state(self, prev_simulator_response: SimulatorResponseType) -> SimulatorRequestType:\n",
    "        self.prev_simulator_response = prev_simulator_response\n",
    "        self.update_working_memory()\n",
    "        # TODO: update long-term memory based on working memory\n",
    "        # TODO: save to long term memory. This can be done asynchronously to avoid blocking the agent\n",
    "        # - Unlike the Generative Agents paper, use magnitude estimation to get more accurate and actionable importance scores (will need to retrieve examples to set a baseline)\n",
    "\n",
    "    def update_working_memory(self) -> None:\n",
    "        # Formulate queries and retrieve from long-term memory\n",
    "        query_response = self.query_generator.generate_response(\n",
    "            working_memory=self.working_memory,\n",
    "            observation=self.prev_simulator_response.observation,\n",
    "        )\n",
    "        retrieved_memories = []\n",
    "        for query in query_response.get(\"queries\", []):\n",
    "            query_memories = self.long_term_memory.retrieve(query)\n",
    "            # TODO: have some sort of LLM filtering / reranking process here\n",
    "            if query_memories:\n",
    "                retrieved_memories.append(query_memories[0])\n",
    "\n",
    "        # Draft memory report based on working memory and retrieved memories\n",
    "        memory_report_response = self.memory_report_generator.generate_response(\n",
    "            working_memory=self.working_memory,\n",
    "            observation=self.prev_simulator_response.observation,\n",
    "            retrieved_memories=retrieved_memories,\n",
    "        )\n",
    "\n",
    "        # Update working memory based on memory report\n",
    "        working_memory_response = self.working_memory_generator.generate_response(\n",
    "            working_memory=self.working_memory,\n",
    "            memory_report=memory_report_response[\"memory_report\"],\n",
    "        )\n",
    "        if working_memory_response[\"updated_working_memory\"]:\n",
    "            self.working_memory = working_memory_response[\"updated_working_memory\"]\n",
    "        \n",
    "        # TODO: remove debug print statements. Replace with loguru logging\n",
    "        print(\"\\n\".join([\n",
    "            \"Updated working memory:\",\n",
    "            textwrap.fill(self.working_memory, width=120),\n",
    "            \"\",\n",
    "        ]))\n",
    "\n",
    "    def choose_action(self) -> SimulatorRequestType:\n",
    "        next_action = self.action_decision_generator.generate_response(\n",
    "            working_memory=self.working_memory,\n",
    "            available_actions=self.prev_simulator_response.available_actions_llm_str(),\n",
    "            action_request_documentation=self.simulator_interface.request_class().documentation_llm_str(),\n",
    "        )\n",
    "        # TODO: recover when invalid json causes a ValidationError\n",
    "        return self.simulator_interface.request_class.parse_json(next_action[\"action_decision\"])\n"
   ]
  },
  {
   "cell_type": "markdown",
   "metadata": {},
   "source": [
    "# Sandbox"
   ]
  },
  {
   "cell_type": "code",
   "execution_count": 34,
   "metadata": {},
   "outputs": [],
   "source": [
    "memories = [\n",
    "    \"I am a human.\",\n",
    "    \"I had an apple for breakfast.\",\n",
    "    \"My name is John.\",\n",
    "    \"My favorite color is blue.\",\n",
    "    \"I have a pet cat.\",\n",
    "    \"I am 25 years old.\",\n",
    "    \"I am a software engineer.\",\n",
    "]\n",
    "\n",
    "db = MemoryDatabase(memories)"
   ]
  },
  {
   "cell_type": "code",
   "execution_count": null,
   "metadata": {},
   "outputs": [],
   "source": [
    "query = \"What did I have for breakfast?\"\n",
    "results = db.retrieve(query, top_k=3)\n",
    "for result in results:\n",
    "    print(result)"
   ]
  },
  {
   "cell_type": "code",
   "execution_count": null,
   "metadata": {},
   "outputs": [],
   "source": [
    "db.add_memories([\"I had a salad for lunch.\"])\n",
    "results = db.retrieve(\"What did I have for lunch?\", top_k=3)\n",
    "for result in results:\n",
    "    print(result)"
   ]
  },
  {
   "cell_type": "code",
   "execution_count": null,
   "metadata": {},
   "outputs": [],
   "source": [
    "# Use LLM to generate a consistent set of memories, etc to bootstrap an agent. Cache to a text file to save time.\n",
    "def bootstrap_test_agent():\n",
    "    pass\n",
    "\n",
    "# Test the agent on a set of observations. Action space can be a set of possible responses at the level of detail of a choose-your-own-adventure game.\n",
    "def test_agent():\n",
    "    pass\n",
    "\n",
    "# If this turns out to be a decent evaluation methodology, could optimize the agent architecture using a genetic algorithm or other optimization technique"
   ]
  },
  {
   "cell_type": "markdown",
   "metadata": {},
   "source": [
    "# Text Adventure LLM Interface"
   ]
  },
  {
   "cell_type": "code",
   "execution_count": 14,
   "metadata": {},
   "outputs": [],
   "source": [
    "from npc.interfaces.text_adventure_interface import TextAdventureInterface, TextAdventureRequest, TextAdventureResponse\n",
    "from npc.simulators.text_adventure import TextAdventureSimulator\n",
    "\n",
    "simulator = TextAdventureSimulator(small_llm)"
   ]
  },
  {
   "cell_type": "code",
   "execution_count": 15,
   "metadata": {},
   "outputs": [
    {
     "name": "stdout",
     "output_type": "stream",
     "text": [
      "Updated working memory:\n",
      "Based on the memory report and the current empty working memory, the following key elements are prioritized and\n",
      "integrated into the updated working memory:  1. Urgent Situation: You are being pursued by powerful corporate enforcers,\n",
      "suggesting a high-stakes conflict or confrontation with a megacorporation that rules the dystopian urban environment you\n",
      "find yourself in. This sense of urgency and danger is a central focus in your working memory.  2. Informant's Warning:\n",
      "Your informant, Ren, has urgently warned you to flee, indicating that you are in grave danger. This warning is a salient\n",
      "and goal-relevant piece of information that is now a key part of your working memory.  3. Gaps in Accessible Memories:\n",
      "The lack of any retrieved memories at this time suggests that the information about your past actions and the events\n",
      "leading up to this situation may be either not readily accessible or intentionally suppressed. This gap in your working\n",
      "memory represents an important area for further retrieval and inference.  4. Heightened Emotional State: The observation\n",
      "conveys a strong sense of unease, urgency, and the weight of consequences, with your heart racing and an acute awareness\n",
      "of the risks and uncertainties you face. This heightened emotional state is likely influencing the way you perceive and\n",
      "interpret the current situation, and it is reflected in your working memory.  5. Need for Rapid Synthesis and Action:\n",
      "Given the time-sensitive nature of the crisis, there is a pressing need to quickly synthesize any available information\n",
      "to inform your next steps. The connections between your past actions, the megacorporation's pursuit, and Ren's warning\n",
      "will be crucial in determining the most prudent course of action.  6. Metacognitive Awareness: You are cognizant of the\n",
      "dynamic and reconstructive nature of human memory, where recent and emotionally salient information is prioritized, and\n",
      "the broader context and significance of past events are woven together to inform the present. This metacognitive\n",
      "awareness is an important element in your working memory, guiding your approach to the situation.  Overall, your updated\n",
      "working memory reflects the key elements of the urgent situation, the informant's warning, the gaps in accessible\n",
      "memories, the heightened emotional state, the need for rapid synthesis and action, and your metacognitive awareness.\n",
      "These elements will guide your cognitive processing and decision-making as you navigate this high-stakes scenario.\n",
      "\n",
      "Updated working memory:\n",
      "Based on the memory report and the current working memory, the following key elements have been prioritized and\n",
      "integrated into the updated working memory:  1. Urgent Confrontation with Powerful Megacorporation: The central focus of\n",
      "your working memory is the high-stakes conflict with a powerful megacorporation and its relentless enforcers who are\n",
      "pursuing you. This sense of urgency and danger is a driving force in your cognitive processing.  2. Ren's Urgent\n",
      "Warning: The warning from your informant, Ren, to flee immediately is a salient and goal-relevant piece of information\n",
      "that is now a key part of your working memory. This warning heightens your awareness of the grave danger you are facing.\n",
      "3. Gaps in Accessible Memories: The lack of readily accessible memories about the events leading up to this situation is\n",
      "an important gap in your working memory. This gap represents a critical area for further retrieval and inference, as the\n",
      "missing information could be crucial in understanding the broader context and significance of the current crisis.  4.\n",
      "Heightened Emotional State: Your working memory reflects the strong sense of unease, fear, and the weight of\n",
      "consequences you are experiencing, with your heart racing and an acute awareness of the risks and uncertainties you\n",
      "face. This heightened emotional state is likely influencing your perception and interpretation of the situation.  5.\n",
      "Need for Rapid Synthesis and Action: Given the time-sensitive nature of the crisis, there is a pressing need to quickly\n",
      "synthesize any available information to inform your next steps. The connections between your past actions, the\n",
      "megacorporation's pursuit, and Ren's warning will be crucial in determining the most prudent course of action.  6.\n",
      "Metacognitive Awareness: Your working memory includes a recognition of the dynamic and reconstructive nature of human\n",
      "memory, where recent and emotionally salient information is prioritized, and the broader context and significance of\n",
      "past events are woven together to inform the present. This metacognitive awareness will guide your approach to the\n",
      "situation.  7. Potential Ally: The retrieval of information about a trusted ally, Zara, who may be able to provide a\n",
      "safe haven and assistance in evading the pursuing enforcers, represents a glimmer of hope in this otherwise bleak and\n",
      "uncertain situation.  These key elements in your updated working memory will inform your decision-making, problem-\n",
      "solving, and subsequent actions as you navigate this high-stakes confrontation with the powerful megacorporation. The\n",
      "limited capacity of your working memory necessitates a focus on the most salient and goal-relevant information, while\n",
      "the influence of your heightened emotional state and metacognitive awareness will shape your cognitive processing and\n",
      "response.\n",
      "\n",
      "Adventure completed!\n"
     ]
    }
   ],
   "source": [
    "# TODO: generalize this so that it does not have any text adventure specific code. The only mixing of simulator logic and agent logic should be in the interface\n",
    "\n",
    "def run_text_adventure_simulation(simulator: TextAdventureSimulator, config: LLMConfig, max_steps: int = 3):\n",
    "    simulator_interface = TextAdventureInterface(simulator)\n",
    "    agent = Agent(simulator_interface=simulator_interface, llm_config=config)\n",
    "\n",
    "    # TODO: don't touch simulator except through the interface\n",
    "    simulator_response = TextAdventureResponse(\n",
    "        success=True,\n",
    "        message=\"Initial state\",\n",
    "        observation=simulator.state.observation,\n",
    "        available_actions=simulator.state.available_actions,\n",
    "    )\n",
    "\n",
    "    for _ in range(max_steps):\n",
    "        agent.update_state(simulator_response)\n",
    "        simulator_request = agent.choose_action()\n",
    "        simulator_response = simulator_interface.execute(simulator_request)\n",
    "        \n",
    "        if not simulator_response.success:\n",
    "            print(f\"Error: {simulator_response.message}\")\n",
    "            break\n",
    "        \n",
    "        if simulator.is_story_ended():\n",
    "            print(\"Story has reached its conclusion.\")\n",
    "            break\n",
    "\n",
    "    print(\"Adventure completed!\")\n",
    "\n",
    "run_text_adventure_simulation(simulator, LLMConfig(small_llm, small_llm), max_steps=2)"
   ]
  },
  {
   "cell_type": "code",
   "execution_count": null,
   "metadata": {},
   "outputs": [],
   "source": [
    "# TODO: move most of the code out of __init__.py and into separate files"
   ]
  },
  {
   "cell_type": "markdown",
   "metadata": {},
   "source": [
    "# Text Adventure Human Interface"
   ]
  },
  {
   "cell_type": "code",
   "execution_count": 22,
   "metadata": {},
   "outputs": [],
   "source": [
    "from npc.simulators.text_adventure import TextAdventureSimulator\n",
    "\n",
    "simulator = TextAdventureSimulator(small_llm)"
   ]
  },
  {
   "cell_type": "code",
   "execution_count": 23,
   "metadata": {},
   "outputs": [
    {
     "data": {
      "text/html": [
       "<pre style=\"white-space:pre;overflow-x:auto;line-height:normal;font-family:Menlo,'DejaVu Sans Mono',consolas,'Courier New',monospace\"><span style=\"color: #008080; text-decoration-color: #008080\">─────────────────────────────────────────────────── </span>Game State<span style=\"color: #008080; text-decoration-color: #008080\"> ────────────────────────────────────────────────────</span>\n",
       "</pre>\n"
      ],
      "text/plain": [
       "\u001b[36m─────────────────────────────────────────────────── \u001b[0mGame State\u001b[36m ────────────────────────────────────────────────────\u001b[0m\n"
      ]
     },
     "metadata": {},
     "output_type": "display_data"
    },
    {
     "data": {
      "text/html": [
       "<pre style=\"white-space:pre;overflow-x:auto;line-height:normal;font-family:Menlo,'DejaVu Sans Mono',consolas,'Courier New',monospace\">The air was thick with tension as the protagonist crouched behind the crumbling concrete barrier, their heart      \n",
       "pounding in their ears. The sound of heavy footsteps and the whirring of surveillance drones echoed through the    \n",
       "dimly lit alleyway, a constant reminder of the oppressive regime that controlled every aspect of life in the       \n",
       "megacity.                                                                                                          \n",
       "\n",
       "Peering cautiously around the edge of the barrier, the protagonist caught a glimpse of the heavily armed security  \n",
       "forces sweeping the area, their robotic exoskeletons and advanced weaponry a stark contrast to the dilapidated     \n",
       "buildings and the desperate citizens cowering in the shadows.                                                      \n",
       "\n",
       "The protagonist's mind raced, weighing their options. They had come this far, risking everything to uncover the    \n",
       "government's darkest secrets, and they couldn't afford to be caught now. Glancing down at the small device in their\n",
       "hand, they knew that the information it contained could be the key to bringing down the regime, but first, they had\n",
       "to find a way to escape the relentless pursuit of the authorities.                                                 \n",
       "\n",
       "Steeling their resolve, the protagonist prepared to make their move, knowing that the choices they made in the next\n",
       "few moments could determine the fate of the entire city.                                                           \n",
       "</pre>\n"
      ],
      "text/plain": [
       "The air was thick with tension as the protagonist crouched behind the crumbling concrete barrier, their heart      \n",
       "pounding in their ears. The sound of heavy footsteps and the whirring of surveillance drones echoed through the    \n",
       "dimly lit alleyway, a constant reminder of the oppressive regime that controlled every aspect of life in the       \n",
       "megacity.                                                                                                          \n",
       "\n",
       "Peering cautiously around the edge of the barrier, the protagonist caught a glimpse of the heavily armed security  \n",
       "forces sweeping the area, their robotic exoskeletons and advanced weaponry a stark contrast to the dilapidated     \n",
       "buildings and the desperate citizens cowering in the shadows.                                                      \n",
       "\n",
       "The protagonist's mind raced, weighing their options. They had come this far, risking everything to uncover the    \n",
       "government's darkest secrets, and they couldn't afford to be caught now. Glancing down at the small device in their\n",
       "hand, they knew that the information it contained could be the key to bringing down the regime, but first, they had\n",
       "to find a way to escape the relentless pursuit of the authorities.                                                 \n",
       "\n",
       "Steeling their resolve, the protagonist prepared to make their move, knowing that the choices they made in the next\n",
       "few moments could determine the fate of the entire city.                                                           \n"
      ]
     },
     "metadata": {},
     "output_type": "display_data"
    },
    {
     "data": {
      "text/html": [
       "<pre style=\"white-space:pre;overflow-x:auto;line-height:normal;font-family:Menlo,'DejaVu Sans Mono',consolas,'Courier New',monospace\"><span style=\"color: #0000ff; text-decoration-color: #0000ff\">╭─────────────────────────────────────────────── </span><span style=\"color: #008080; text-decoration-color: #008080; font-weight: bold\">Available Actions</span><span style=\"color: #0000ff; text-decoration-color: #0000ff\"> ───────────────────────────────────────────────╮</span>\n",
       "<span style=\"color: #0000ff; text-decoration-color: #0000ff\">│</span> <span style=\"font-weight: bold\">Option 1</span>                                                                                                        <span style=\"color: #0000ff; text-decoration-color: #0000ff\">│</span>\n",
       "<span style=\"color: #0000ff; text-decoration-color: #0000ff\">│</span> <span style=\"font-style: italic\">Attempt a Daring Escape</span>. Make a break for it, using your agility and quick thinking to evade the security       <span style=\"color: #0000ff; text-decoration-color: #0000ff\">│</span>\n",
       "<span style=\"color: #0000ff; text-decoration-color: #0000ff\">│</span> forces and find a way out of the alleyway. This could be a high-risk, high-reward option, but it may also draw  <span style=\"color: #0000ff; text-decoration-color: #0000ff\">│</span>\n",
       "<span style=\"color: #0000ff; text-decoration-color: #0000ff\">│</span> more attention to your location.                                                                                <span style=\"color: #0000ff; text-decoration-color: #0000ff\">│</span>\n",
       "<span style=\"color: #0000ff; text-decoration-color: #0000ff\">│</span>                                                                                                                 <span style=\"color: #0000ff; text-decoration-color: #0000ff\">│</span>\n",
       "<span style=\"color: #0000ff; text-decoration-color: #0000ff\">│</span> <span style=\"font-weight: bold\">Option 2</span>                                                                                                        <span style=\"color: #0000ff; text-decoration-color: #0000ff\">│</span>\n",
       "<span style=\"color: #0000ff; text-decoration-color: #0000ff\">│</span> <span style=\"font-style: italic\">Seek Refuge with Sympathetic Locals</span>. Try to blend in with the civilians in the area and seek shelter with those <span style=\"color: #0000ff; text-decoration-color: #0000ff\">│</span>\n",
       "<span style=\"color: #0000ff; text-decoration-color: #0000ff\">│</span> who may be willing to help you hide from the authorities. This could provide a temporary respite, but it also   <span style=\"color: #0000ff; text-decoration-color: #0000ff\">│</span>\n",
       "<span style=\"color: #0000ff; text-decoration-color: #0000ff\">│</span> carries the risk of being betrayed or discovered.                                                               <span style=\"color: #0000ff; text-decoration-color: #0000ff\">│</span>\n",
       "<span style=\"color: #0000ff; text-decoration-color: #0000ff\">│</span>                                                                                                                 <span style=\"color: #0000ff; text-decoration-color: #0000ff\">│</span>\n",
       "<span style=\"color: #0000ff; text-decoration-color: #0000ff\">│</span> <span style=\"font-weight: bold\">Option 3</span>                                                                                                        <span style=\"color: #0000ff; text-decoration-color: #0000ff\">│</span>\n",
       "<span style=\"color: #0000ff; text-decoration-color: #0000ff\">│</span> <span style=\"font-style: italic\">Confront the Security Forces Directly</span>. Take a stand against the oppressive regime and engage the security       <span style=\"color: #0000ff; text-decoration-color: #0000ff\">│</span>\n",
       "<span style=\"color: #0000ff; text-decoration-color: #0000ff\">│</span> forces, using your wits and any available resources to try to overpower them and escape. This is a high-stakes, <span style=\"color: #0000ff; text-decoration-color: #0000ff\">│</span>\n",
       "<span style=\"color: #0000ff; text-decoration-color: #0000ff\">│</span> high-danger option that could lead to a dramatic confrontation.                                                 <span style=\"color: #0000ff; text-decoration-color: #0000ff\">│</span>\n",
       "<span style=\"color: #0000ff; text-decoration-color: #0000ff\">│</span>                                                                                                                 <span style=\"color: #0000ff; text-decoration-color: #0000ff\">│</span>\n",
       "<span style=\"color: #0000ff; text-decoration-color: #0000ff\">│</span> <span style=\"font-weight: bold\">Option 4</span>                                                                                                        <span style=\"color: #0000ff; text-decoration-color: #0000ff\">│</span>\n",
       "<span style=\"color: #0000ff; text-decoration-color: #0000ff\">│</span> <span style=\"font-style: italic\">Activate the Device and Transmit the Data</span>. Without delay, activate the device and transmit the sensitive        <span style=\"color: #0000ff; text-decoration-color: #0000ff\">│</span>\n",
       "<span style=\"color: #0000ff; text-decoration-color: #0000ff\">│</span> information you've gathered, even if it means drawing the immediate attention of the security forces. This      <span style=\"color: #0000ff; text-decoration-color: #0000ff\">│</span>\n",
       "<span style=\"color: #0000ff; text-decoration-color: #0000ff\">│</span> could be a crucial step in your mission, but it also puts you in grave danger.                                  <span style=\"color: #0000ff; text-decoration-color: #0000ff\">│</span>\n",
       "<span style=\"color: #0000ff; text-decoration-color: #0000ff\">╰─────────────────────────────────────────────────────────────────────────────────────────────────────────────────╯</span>\n",
       "</pre>\n"
      ],
      "text/plain": [
       "\u001b[94m╭─\u001b[0m\u001b[94m──────────────────────────────────────────────\u001b[0m\u001b[94m \u001b[0m\u001b[1;36mAvailable Actions\u001b[0m\u001b[94m \u001b[0m\u001b[94m──────────────────────────────────────────────\u001b[0m\u001b[94m─╮\u001b[0m\n",
       "\u001b[94m│\u001b[0m \u001b[1mOption 1\u001b[0m                                                                                                        \u001b[94m│\u001b[0m\n",
       "\u001b[94m│\u001b[0m \u001b[3mAttempt a Daring Escape\u001b[0m. Make a break for it, using your agility and quick thinking to evade the security       \u001b[94m│\u001b[0m\n",
       "\u001b[94m│\u001b[0m forces and find a way out of the alleyway. This could be a high-risk, high-reward option, but it may also draw  \u001b[94m│\u001b[0m\n",
       "\u001b[94m│\u001b[0m more attention to your location.                                                                                \u001b[94m│\u001b[0m\n",
       "\u001b[94m│\u001b[0m                                                                                                                 \u001b[94m│\u001b[0m\n",
       "\u001b[94m│\u001b[0m \u001b[1mOption 2\u001b[0m                                                                                                        \u001b[94m│\u001b[0m\n",
       "\u001b[94m│\u001b[0m \u001b[3mSeek Refuge with Sympathetic Locals\u001b[0m. Try to blend in with the civilians in the area and seek shelter with those \u001b[94m│\u001b[0m\n",
       "\u001b[94m│\u001b[0m who may be willing to help you hide from the authorities. This could provide a temporary respite, but it also   \u001b[94m│\u001b[0m\n",
       "\u001b[94m│\u001b[0m carries the risk of being betrayed or discovered.                                                               \u001b[94m│\u001b[0m\n",
       "\u001b[94m│\u001b[0m                                                                                                                 \u001b[94m│\u001b[0m\n",
       "\u001b[94m│\u001b[0m \u001b[1mOption 3\u001b[0m                                                                                                        \u001b[94m│\u001b[0m\n",
       "\u001b[94m│\u001b[0m \u001b[3mConfront the Security Forces Directly\u001b[0m. Take a stand against the oppressive regime and engage the security       \u001b[94m│\u001b[0m\n",
       "\u001b[94m│\u001b[0m forces, using your wits and any available resources to try to overpower them and escape. This is a high-stakes, \u001b[94m│\u001b[0m\n",
       "\u001b[94m│\u001b[0m high-danger option that could lead to a dramatic confrontation.                                                 \u001b[94m│\u001b[0m\n",
       "\u001b[94m│\u001b[0m                                                                                                                 \u001b[94m│\u001b[0m\n",
       "\u001b[94m│\u001b[0m \u001b[1mOption 4\u001b[0m                                                                                                        \u001b[94m│\u001b[0m\n",
       "\u001b[94m│\u001b[0m \u001b[3mActivate the Device and Transmit the Data\u001b[0m. Without delay, activate the device and transmit the sensitive        \u001b[94m│\u001b[0m\n",
       "\u001b[94m│\u001b[0m information you've gathered, even if it means drawing the immediate attention of the security forces. This      \u001b[94m│\u001b[0m\n",
       "\u001b[94m│\u001b[0m could be a crucial step in your mission, but it also puts you in grave danger.                                  \u001b[94m│\u001b[0m\n",
       "\u001b[94m╰─────────────────────────────────────────────────────────────────────────────────────────────────────────────────╯\u001b[0m\n"
      ]
     },
     "metadata": {},
     "output_type": "display_data"
    },
    {
     "data": {
      "text/html": [
       "<pre style=\"white-space:pre;overflow-x:auto;line-height:normal;font-family:Menlo,'DejaVu Sans Mono',consolas,'Courier New',monospace\">Choose an action <span style=\"color: #800080; text-decoration-color: #800080; font-weight: bold\">[1/2/3/4]</span>: </pre>\n"
      ],
      "text/plain": [
       "Choose an action \u001b[1;35m[1/2/3/4]\u001b[0m: "
      ]
     },
     "metadata": {},
     "output_type": "display_data"
    },
    {
     "data": {
      "text/html": [
       "<pre style=\"white-space:pre;overflow-x:auto;line-height:normal;font-family:Menlo,'DejaVu Sans Mono',consolas,'Courier New',monospace\">\n",
       "You chose: <span style=\"color: #008000; text-decoration-color: #008000; font-weight: bold\">Option </span><span style=\"color: #008000; text-decoration-color: #008000; font-weight: bold\">4</span>\n",
       "\n",
       "</pre>\n"
      ],
      "text/plain": [
       "\n",
       "You chose: \u001b[1;32mOption \u001b[0m\u001b[1;32m4\u001b[0m\n",
       "\n"
      ]
     },
     "metadata": {},
     "output_type": "display_data"
    },
    {
     "data": {
      "text/html": [
       "<pre style=\"white-space:pre;overflow-x:auto;line-height:normal;font-family:Menlo,'DejaVu Sans Mono',consolas,'Courier New',monospace\"><span style=\"color: #008080; text-decoration-color: #008080\">─────────────────────────────────────────────────── </span>Game State<span style=\"color: #008080; text-decoration-color: #008080\"> ────────────────────────────────────────────────────</span>\n",
       "</pre>\n"
      ],
      "text/plain": [
       "\u001b[36m─────────────────────────────────────────────────── \u001b[0mGame State\u001b[36m ────────────────────────────────────────────────────\u001b[0m\n"
      ]
     },
     "metadata": {},
     "output_type": "display_data"
    },
    {
     "data": {
      "text/html": [
       "<pre style=\"white-space:pre;overflow-x:auto;line-height:normal;font-family:Menlo,'DejaVu Sans Mono',consolas,'Courier New',monospace\">The device whirred to life in the protagonist's trembling hands, the small screen flickering to life as the        \n",
       "sensitive data began transmitting. A surge of adrenaline coursed through their veins, knowing that this could be   \n",
       "the moment that changes everything. But the sound of approaching footsteps and the distant wail of sirens shattered\n",
       "the brief moment of triumph.                                                                                       \n",
       "\n",
       "Glancing up, the protagonist saw the security forces closing in, their robotic exoskeletons and advanced weaponry a\n",
       "formidable sight. There was no time to waste - the transmission was still ongoing, and the protagonist had to find \n",
       "a way to escape before the authorities caught up to them.                                                          \n",
       "\n",
       "Scanning the alleyway, the protagonist spotted a narrow service hatch in the crumbling wall, just large enough for \n",
       "them to squeeze through. It was a risky move, but it might be their only chance at evading the relentless pursuit. \n",
       "Gripping the device tightly, the protagonist made a split-second decision and darted towards the hatch, praying    \n",
       "that it would lead them to safety.                                                                                 \n",
       "</pre>\n"
      ],
      "text/plain": [
       "The device whirred to life in the protagonist's trembling hands, the small screen flickering to life as the        \n",
       "sensitive data began transmitting. A surge of adrenaline coursed through their veins, knowing that this could be   \n",
       "the moment that changes everything. But the sound of approaching footsteps and the distant wail of sirens shattered\n",
       "the brief moment of triumph.                                                                                       \n",
       "\n",
       "Glancing up, the protagonist saw the security forces closing in, their robotic exoskeletons and advanced weaponry a\n",
       "formidable sight. There was no time to waste - the transmission was still ongoing, and the protagonist had to find \n",
       "a way to escape before the authorities caught up to them.                                                          \n",
       "\n",
       "Scanning the alleyway, the protagonist spotted a narrow service hatch in the crumbling wall, just large enough for \n",
       "them to squeeze through. It was a risky move, but it might be their only chance at evading the relentless pursuit. \n",
       "Gripping the device tightly, the protagonist made a split-second decision and darted towards the hatch, praying    \n",
       "that it would lead them to safety.                                                                                 \n"
      ]
     },
     "metadata": {},
     "output_type": "display_data"
    },
    {
     "data": {
      "text/html": [
       "<pre style=\"white-space:pre;overflow-x:auto;line-height:normal;font-family:Menlo,'DejaVu Sans Mono',consolas,'Courier New',monospace\"><span style=\"color: #0000ff; text-decoration-color: #0000ff\">╭─────────────────────────────────────────────── </span><span style=\"color: #008080; text-decoration-color: #008080; font-weight: bold\">Available Actions</span><span style=\"color: #0000ff; text-decoration-color: #0000ff\"> ───────────────────────────────────────────────╮</span>\n",
       "<span style=\"color: #0000ff; text-decoration-color: #0000ff\">│</span> <span style=\"font-weight: bold\">Option 1</span>                                                                                                        <span style=\"color: #0000ff; text-decoration-color: #0000ff\">│</span>\n",
       "<span style=\"color: #0000ff; text-decoration-color: #0000ff\">│</span> <span style=\"font-style: italic\">Dive Through the Service Hatch</span>. Quickly squeeze through the narrow service hatch, hoping to lose the security   <span style=\"color: #0000ff; text-decoration-color: #0000ff\">│</span>\n",
       "<span style=\"color: #0000ff; text-decoration-color: #0000ff\">│</span> forces in the maze of tunnels and back alleys beyond. This could be your best chance at escape, but the tight   <span style=\"color: #0000ff; text-decoration-color: #0000ff\">│</span>\n",
       "<span style=\"color: #0000ff; text-decoration-color: #0000ff\">│</span> confines and unknown dangers of the hatch pose significant risks.                                               <span style=\"color: #0000ff; text-decoration-color: #0000ff\">│</span>\n",
       "<span style=\"color: #0000ff; text-decoration-color: #0000ff\">│</span>                                                                                                                 <span style=\"color: #0000ff; text-decoration-color: #0000ff\">│</span>\n",
       "<span style=\"color: #0000ff; text-decoration-color: #0000ff\">│</span> <span style=\"font-weight: bold\">Option 2</span>                                                                                                        <span style=\"color: #0000ff; text-decoration-color: #0000ff\">│</span>\n",
       "<span style=\"color: #0000ff; text-decoration-color: #0000ff\">│</span> <span style=\"font-style: italic\">Confront the Security Forces</span>. Stand your ground and face the approaching security forces head-on. This could be <span style=\"color: #0000ff; text-decoration-color: #0000ff\">│</span>\n",
       "<span style=\"color: #0000ff; text-decoration-color: #0000ff\">│</span> a chance to buy more time for the transmission to complete, but it's a high-stakes gamble that may result in    <span style=\"color: #0000ff; text-decoration-color: #0000ff\">│</span>\n",
       "<span style=\"color: #0000ff; text-decoration-color: #0000ff\">│</span> your capture or worse.                                                                                          <span style=\"color: #0000ff; text-decoration-color: #0000ff\">│</span>\n",
       "<span style=\"color: #0000ff; text-decoration-color: #0000ff\">│</span>                                                                                                                 <span style=\"color: #0000ff; text-decoration-color: #0000ff\">│</span>\n",
       "<span style=\"color: #0000ff; text-decoration-color: #0000ff\">│</span> <span style=\"font-weight: bold\">Option 3</span>                                                                                                        <span style=\"color: #0000ff; text-decoration-color: #0000ff\">│</span>\n",
       "<span style=\"color: #0000ff; text-decoration-color: #0000ff\">│</span> <span style=\"font-style: italic\">Seek Cover and Wait for an Opening</span>. Remain hidden behind the concrete barrier and wait for an opportunity to    <span style=\"color: #0000ff; text-decoration-color: #0000ff\">│</span>\n",
       "<span style=\"color: #0000ff; text-decoration-color: #0000ff\">│</span> slip away unnoticed. This cautious approach may allow you to avoid detection, but it also risks the             <span style=\"color: #0000ff; text-decoration-color: #0000ff\">│</span>\n",
       "<span style=\"color: #0000ff; text-decoration-color: #0000ff\">│</span> transmission being interrupted or the security forces closing in on your position.                              <span style=\"color: #0000ff; text-decoration-color: #0000ff\">│</span>\n",
       "<span style=\"color: #0000ff; text-decoration-color: #0000ff\">╰─────────────────────────────────────────────────────────────────────────────────────────────────────────────────╯</span>\n",
       "</pre>\n"
      ],
      "text/plain": [
       "\u001b[94m╭─\u001b[0m\u001b[94m──────────────────────────────────────────────\u001b[0m\u001b[94m \u001b[0m\u001b[1;36mAvailable Actions\u001b[0m\u001b[94m \u001b[0m\u001b[94m──────────────────────────────────────────────\u001b[0m\u001b[94m─╮\u001b[0m\n",
       "\u001b[94m│\u001b[0m \u001b[1mOption 1\u001b[0m                                                                                                        \u001b[94m│\u001b[0m\n",
       "\u001b[94m│\u001b[0m \u001b[3mDive Through the Service Hatch\u001b[0m. Quickly squeeze through the narrow service hatch, hoping to lose the security   \u001b[94m│\u001b[0m\n",
       "\u001b[94m│\u001b[0m forces in the maze of tunnels and back alleys beyond. This could be your best chance at escape, but the tight   \u001b[94m│\u001b[0m\n",
       "\u001b[94m│\u001b[0m confines and unknown dangers of the hatch pose significant risks.                                               \u001b[94m│\u001b[0m\n",
       "\u001b[94m│\u001b[0m                                                                                                                 \u001b[94m│\u001b[0m\n",
       "\u001b[94m│\u001b[0m \u001b[1mOption 2\u001b[0m                                                                                                        \u001b[94m│\u001b[0m\n",
       "\u001b[94m│\u001b[0m \u001b[3mConfront the Security Forces\u001b[0m. Stand your ground and face the approaching security forces head-on. This could be \u001b[94m│\u001b[0m\n",
       "\u001b[94m│\u001b[0m a chance to buy more time for the transmission to complete, but it's a high-stakes gamble that may result in    \u001b[94m│\u001b[0m\n",
       "\u001b[94m│\u001b[0m your capture or worse.                                                                                          \u001b[94m│\u001b[0m\n",
       "\u001b[94m│\u001b[0m                                                                                                                 \u001b[94m│\u001b[0m\n",
       "\u001b[94m│\u001b[0m \u001b[1mOption 3\u001b[0m                                                                                                        \u001b[94m│\u001b[0m\n",
       "\u001b[94m│\u001b[0m \u001b[3mSeek Cover and Wait for an Opening\u001b[0m. Remain hidden behind the concrete barrier and wait for an opportunity to    \u001b[94m│\u001b[0m\n",
       "\u001b[94m│\u001b[0m slip away unnoticed. This cautious approach may allow you to avoid detection, but it also risks the             \u001b[94m│\u001b[0m\n",
       "\u001b[94m│\u001b[0m transmission being interrupted or the security forces closing in on your position.                              \u001b[94m│\u001b[0m\n",
       "\u001b[94m╰─────────────────────────────────────────────────────────────────────────────────────────────────────────────────╯\u001b[0m\n"
      ]
     },
     "metadata": {},
     "output_type": "display_data"
    },
    {
     "data": {
      "text/html": [
       "<pre style=\"white-space:pre;overflow-x:auto;line-height:normal;font-family:Menlo,'DejaVu Sans Mono',consolas,'Courier New',monospace\">Choose an action <span style=\"color: #800080; text-decoration-color: #800080; font-weight: bold\">[1/2/3]</span>: </pre>\n"
      ],
      "text/plain": [
       "Choose an action \u001b[1;35m[1/2/3]\u001b[0m: "
      ]
     },
     "metadata": {},
     "output_type": "display_data"
    },
    {
     "data": {
      "text/html": [
       "<pre style=\"white-space:pre;overflow-x:auto;line-height:normal;font-family:Menlo,'DejaVu Sans Mono',consolas,'Courier New',monospace\">\n",
       "You chose: <span style=\"color: #008000; text-decoration-color: #008000; font-weight: bold\">Option </span><span style=\"color: #008000; text-decoration-color: #008000; font-weight: bold\">1</span>\n",
       "\n",
       "</pre>\n"
      ],
      "text/plain": [
       "\n",
       "You chose: \u001b[1;32mOption \u001b[0m\u001b[1;32m1\u001b[0m\n",
       "\n"
      ]
     },
     "metadata": {},
     "output_type": "display_data"
    },
    {
     "data": {
      "text/html": [
       "<pre style=\"white-space:pre;overflow-x:auto;line-height:normal;font-family:Menlo,'DejaVu Sans Mono',consolas,'Courier New',monospace\"><span style=\"color: #008080; text-decoration-color: #008080\">─────────────────────────────────────────────────── </span>Game State<span style=\"color: #008080; text-decoration-color: #008080\"> ────────────────────────────────────────────────────</span>\n",
       "</pre>\n"
      ],
      "text/plain": [
       "\u001b[36m─────────────────────────────────────────────────── \u001b[0mGame State\u001b[36m ────────────────────────────────────────────────────\u001b[0m\n"
      ]
     },
     "metadata": {},
     "output_type": "display_data"
    },
    {
     "data": {
      "text/html": [
       "<pre style=\"white-space:pre;overflow-x:auto;line-height:normal;font-family:Menlo,'DejaVu Sans Mono',consolas,'Courier New',monospace\">The protagonist's heart raced as they squeezed through the narrow service hatch, the sounds of the pursuing        \n",
       "security forces fading behind them. The cramped tunnel was dark and damp, the air thick with the stench of decay.  \n",
       "Gripping the precious device tightly, they pressed forward, their senses heightened as they navigated the maze of  \n",
       "twisting passages.                                                                                                 \n",
       "\n",
       "Suddenly, the protagonist's foot caught on a loose grate, and they stumbled, nearly dropping the device. Steadying \n",
       "themselves, they realized they had emerged into a dimly lit underground chamber, the sound of rushing water echoing\n",
       "all around them.                                                                                                   \n",
       "\n",
       "Glancing around, the protagonist spotted a faint glimmer of light in the distance, a potential exit. But as they   \n",
       "moved closer, they heard the unmistakable sound of voices - more security forces, no doubt searching for them.     \n",
       "\n",
       "Trapped between the approaching threat and the unknown dangers of the chamber, the protagonist had to make a       \n",
       "critical decision that could determine the fate of their mission, and their own survival.                          \n",
       "</pre>\n"
      ],
      "text/plain": [
       "The protagonist's heart raced as they squeezed through the narrow service hatch, the sounds of the pursuing        \n",
       "security forces fading behind them. The cramped tunnel was dark and damp, the air thick with the stench of decay.  \n",
       "Gripping the precious device tightly, they pressed forward, their senses heightened as they navigated the maze of  \n",
       "twisting passages.                                                                                                 \n",
       "\n",
       "Suddenly, the protagonist's foot caught on a loose grate, and they stumbled, nearly dropping the device. Steadying \n",
       "themselves, they realized they had emerged into a dimly lit underground chamber, the sound of rushing water echoing\n",
       "all around them.                                                                                                   \n",
       "\n",
       "Glancing around, the protagonist spotted a faint glimmer of light in the distance, a potential exit. But as they   \n",
       "moved closer, they heard the unmistakable sound of voices - more security forces, no doubt searching for them.     \n",
       "\n",
       "Trapped between the approaching threat and the unknown dangers of the chamber, the protagonist had to make a       \n",
       "critical decision that could determine the fate of their mission, and their own survival.                          \n"
      ]
     },
     "metadata": {},
     "output_type": "display_data"
    },
    {
     "data": {
      "text/html": [
       "<pre style=\"white-space:pre;overflow-x:auto;line-height:normal;font-family:Menlo,'DejaVu Sans Mono',consolas,'Courier New',monospace\"><span style=\"color: #0000ff; text-decoration-color: #0000ff\">╭─────────────────────────────────────────────── </span><span style=\"color: #008080; text-decoration-color: #008080; font-weight: bold\">Available Actions</span><span style=\"color: #0000ff; text-decoration-color: #0000ff\"> ───────────────────────────────────────────────╮</span>\n",
       "<span style=\"color: #0000ff; text-decoration-color: #0000ff\">│</span> <span style=\"font-weight: bold\">Option 1</span>                                                                                                        <span style=\"color: #0000ff; text-decoration-color: #0000ff\">│</span>\n",
       "<span style=\"color: #0000ff; text-decoration-color: #0000ff\">│</span> <span style=\"font-style: italic\">Conceal Yourself</span>. Quickly find a hiding spot in the shadows, hoping to evade the security forces and wait for   <span style=\"color: #0000ff; text-decoration-color: #0000ff\">│</span>\n",
       "<span style=\"color: #0000ff; text-decoration-color: #0000ff\">│</span> an opportunity to escape. This could buy you time, but you risk being discovered or trapped in the chamber.     <span style=\"color: #0000ff; text-decoration-color: #0000ff\">│</span>\n",
       "<span style=\"color: #0000ff; text-decoration-color: #0000ff\">│</span>                                                                                                                 <span style=\"color: #0000ff; text-decoration-color: #0000ff\">│</span>\n",
       "<span style=\"color: #0000ff; text-decoration-color: #0000ff\">│</span> <span style=\"font-weight: bold\">Option 2</span>                                                                                                        <span style=\"color: #0000ff; text-decoration-color: #0000ff\">│</span>\n",
       "<span style=\"color: #0000ff; text-decoration-color: #0000ff\">│</span> <span style=\"font-style: italic\">Confront the Guards</span>. Boldly approach the security forces, using your wits and the sensitive data in your        <span style=\"color: #0000ff; text-decoration-color: #0000ff\">│</span>\n",
       "<span style=\"color: #0000ff; text-decoration-color: #0000ff\">│</span> possession to negotiate your way out of the situation. This could be a risky gamble, but it may be your best    <span style=\"color: #0000ff; text-decoration-color: #0000ff\">│</span>\n",
       "<span style=\"color: #0000ff; text-decoration-color: #0000ff\">│</span> chance to reach your objective.                                                                                 <span style=\"color: #0000ff; text-decoration-color: #0000ff\">│</span>\n",
       "<span style=\"color: #0000ff; text-decoration-color: #0000ff\">│</span>                                                                                                                 <span style=\"color: #0000ff; text-decoration-color: #0000ff\">│</span>\n",
       "<span style=\"color: #0000ff; text-decoration-color: #0000ff\">│</span> <span style=\"font-weight: bold\">Option 3</span>                                                                                                        <span style=\"color: #0000ff; text-decoration-color: #0000ff\">│</span>\n",
       "<span style=\"color: #0000ff; text-decoration-color: #0000ff\">│</span> <span style=\"font-style: italic\">Explore the Chamber</span>. Cautiously investigate the underground chamber, searching for a hidden exit or a potential <span style=\"color: #0000ff; text-decoration-color: #0000ff\">│</span>\n",
       "<span style=\"color: #0000ff; text-decoration-color: #0000ff\">│</span> means of escape. This could lead you to safety, but you may also uncover unexpected dangers or obstacles.       <span style=\"color: #0000ff; text-decoration-color: #0000ff\">│</span>\n",
       "<span style=\"color: #0000ff; text-decoration-color: #0000ff\">╰─────────────────────────────────────────────────────────────────────────────────────────────────────────────────╯</span>\n",
       "</pre>\n"
      ],
      "text/plain": [
       "\u001b[94m╭─\u001b[0m\u001b[94m──────────────────────────────────────────────\u001b[0m\u001b[94m \u001b[0m\u001b[1;36mAvailable Actions\u001b[0m\u001b[94m \u001b[0m\u001b[94m──────────────────────────────────────────────\u001b[0m\u001b[94m─╮\u001b[0m\n",
       "\u001b[94m│\u001b[0m \u001b[1mOption 1\u001b[0m                                                                                                        \u001b[94m│\u001b[0m\n",
       "\u001b[94m│\u001b[0m \u001b[3mConceal Yourself\u001b[0m. Quickly find a hiding spot in the shadows, hoping to evade the security forces and wait for   \u001b[94m│\u001b[0m\n",
       "\u001b[94m│\u001b[0m an opportunity to escape. This could buy you time, but you risk being discovered or trapped in the chamber.     \u001b[94m│\u001b[0m\n",
       "\u001b[94m│\u001b[0m                                                                                                                 \u001b[94m│\u001b[0m\n",
       "\u001b[94m│\u001b[0m \u001b[1mOption 2\u001b[0m                                                                                                        \u001b[94m│\u001b[0m\n",
       "\u001b[94m│\u001b[0m \u001b[3mConfront the Guards\u001b[0m. Boldly approach the security forces, using your wits and the sensitive data in your        \u001b[94m│\u001b[0m\n",
       "\u001b[94m│\u001b[0m possession to negotiate your way out of the situation. This could be a risky gamble, but it may be your best    \u001b[94m│\u001b[0m\n",
       "\u001b[94m│\u001b[0m chance to reach your objective.                                                                                 \u001b[94m│\u001b[0m\n",
       "\u001b[94m│\u001b[0m                                                                                                                 \u001b[94m│\u001b[0m\n",
       "\u001b[94m│\u001b[0m \u001b[1mOption 3\u001b[0m                                                                                                        \u001b[94m│\u001b[0m\n",
       "\u001b[94m│\u001b[0m \u001b[3mExplore the Chamber\u001b[0m. Cautiously investigate the underground chamber, searching for a hidden exit or a potential \u001b[94m│\u001b[0m\n",
       "\u001b[94m│\u001b[0m means of escape. This could lead you to safety, but you may also uncover unexpected dangers or obstacles.       \u001b[94m│\u001b[0m\n",
       "\u001b[94m╰─────────────────────────────────────────────────────────────────────────────────────────────────────────────────╯\u001b[0m\n"
      ]
     },
     "metadata": {},
     "output_type": "display_data"
    },
    {
     "data": {
      "text/html": [
       "<pre style=\"white-space:pre;overflow-x:auto;line-height:normal;font-family:Menlo,'DejaVu Sans Mono',consolas,'Courier New',monospace\">Choose an action <span style=\"color: #800080; text-decoration-color: #800080; font-weight: bold\">[1/2/3]</span>: </pre>\n"
      ],
      "text/plain": [
       "Choose an action \u001b[1;35m[1/2/3]\u001b[0m: "
      ]
     },
     "metadata": {},
     "output_type": "display_data"
    },
    {
     "ename": "KeyboardInterrupt",
     "evalue": "Interrupted by user",
     "output_type": "error",
     "traceback": [
      "\u001b[0;31m---------------------------------------------------------------------------\u001b[0m",
      "\u001b[0;31mKeyboardInterrupt\u001b[0m                         Traceback (most recent call last)",
      "Cell \u001b[0;32mIn[23], line 25\u001b[0m\n\u001b[1;32m     22\u001b[0m console\u001b[38;5;241m.\u001b[39mprint(actions_panel)\n\u001b[1;32m     24\u001b[0m \u001b[38;5;66;03m# Take an action\u001b[39;00m\n\u001b[0;32m---> 25\u001b[0m action_index \u001b[38;5;241m=\u001b[39m \u001b[43mIntPrompt\u001b[49m\u001b[38;5;241;43m.\u001b[39;49m\u001b[43mask\u001b[49m\u001b[43m(\u001b[49m\u001b[38;5;124;43m\"\u001b[39;49m\u001b[38;5;124;43mChoose an action\u001b[39;49m\u001b[38;5;124;43m\"\u001b[39;49m\u001b[43m,\u001b[49m\u001b[43m \u001b[49m\u001b[43mchoices\u001b[49m\u001b[38;5;241;43m=\u001b[39;49m\u001b[43m[\u001b[49m\u001b[38;5;28;43mstr\u001b[39;49m\u001b[43m(\u001b[49m\u001b[43mi\u001b[49m\u001b[43m)\u001b[49m\u001b[43m \u001b[49m\u001b[38;5;28;43;01mfor\u001b[39;49;00m\u001b[43m \u001b[49m\u001b[43mi\u001b[49m\u001b[43m \u001b[49m\u001b[38;5;129;43;01min\u001b[39;49;00m\u001b[43m \u001b[49m\u001b[43mgame_state\u001b[49m\u001b[38;5;241;43m.\u001b[39;49m\u001b[43mavailable_actions\u001b[49m\u001b[38;5;241;43m.\u001b[39;49m\u001b[43mkeys\u001b[49m\u001b[43m(\u001b[49m\u001b[43m)\u001b[49m\u001b[43m]\u001b[49m\u001b[43m)\u001b[49m\n\u001b[1;32m     26\u001b[0m console\u001b[38;5;241m.\u001b[39mprint(\u001b[38;5;124mf\u001b[39m\u001b[38;5;124m\"\u001b[39m\u001b[38;5;130;01m\\n\u001b[39;00m\u001b[38;5;124mYou chose: [bold green]Option \u001b[39m\u001b[38;5;132;01m{\u001b[39;00maction_index\u001b[38;5;132;01m}\u001b[39;00m\u001b[38;5;124m[/bold green]\u001b[39m\u001b[38;5;130;01m\\n\u001b[39;00m\u001b[38;5;124m\"\u001b[39m)\n\u001b[1;32m     27\u001b[0m new_game_state \u001b[38;5;241m=\u001b[39m simulator\u001b[38;5;241m.\u001b[39mtake_action(action_index)\n",
      "File \u001b[0;32m~/projects/npcs/npc/.venv/lib/python3.11/site-packages/rich/prompt.py:149\u001b[0m, in \u001b[0;36mPromptBase.ask\u001b[0;34m(cls, prompt, console, password, choices, case_sensitive, show_default, show_choices, default, stream)\u001b[0m\n\u001b[1;32m    125\u001b[0m \u001b[38;5;250m\u001b[39m\u001b[38;5;124;03m\"\"\"Shortcut to construct and run a prompt loop and return the result.\u001b[39;00m\n\u001b[1;32m    126\u001b[0m \n\u001b[1;32m    127\u001b[0m \u001b[38;5;124;03mExample:\u001b[39;00m\n\u001b[0;32m   (...)\u001b[0m\n\u001b[1;32m    138\u001b[0m \u001b[38;5;124;03m    stream (TextIO, optional): Optional text file open for reading to get input. Defaults to None.\u001b[39;00m\n\u001b[1;32m    139\u001b[0m \u001b[38;5;124;03m\"\"\"\u001b[39;00m\n\u001b[1;32m    140\u001b[0m _prompt \u001b[38;5;241m=\u001b[39m \u001b[38;5;28mcls\u001b[39m(\n\u001b[1;32m    141\u001b[0m     prompt,\n\u001b[1;32m    142\u001b[0m     console\u001b[38;5;241m=\u001b[39mconsole,\n\u001b[0;32m   (...)\u001b[0m\n\u001b[1;32m    147\u001b[0m     show_choices\u001b[38;5;241m=\u001b[39mshow_choices,\n\u001b[1;32m    148\u001b[0m )\n\u001b[0;32m--> 149\u001b[0m \u001b[38;5;28;01mreturn\u001b[39;00m \u001b[43m_prompt\u001b[49m\u001b[43m(\u001b[49m\u001b[43mdefault\u001b[49m\u001b[38;5;241;43m=\u001b[39;49m\u001b[43mdefault\u001b[49m\u001b[43m,\u001b[49m\u001b[43m \u001b[49m\u001b[43mstream\u001b[49m\u001b[38;5;241;43m=\u001b[39;49m\u001b[43mstream\u001b[49m\u001b[43m)\u001b[49m\n",
      "File \u001b[0;32m~/projects/npcs/npc/.venv/lib/python3.11/site-packages/rich/prompt.py:292\u001b[0m, in \u001b[0;36mPromptBase.__call__\u001b[0;34m(self, default, stream)\u001b[0m\n\u001b[1;32m    290\u001b[0m \u001b[38;5;28mself\u001b[39m\u001b[38;5;241m.\u001b[39mpre_prompt()\n\u001b[1;32m    291\u001b[0m prompt \u001b[38;5;241m=\u001b[39m \u001b[38;5;28mself\u001b[39m\u001b[38;5;241m.\u001b[39mmake_prompt(default)\n\u001b[0;32m--> 292\u001b[0m value \u001b[38;5;241m=\u001b[39m \u001b[38;5;28;43mself\u001b[39;49m\u001b[38;5;241;43m.\u001b[39;49m\u001b[43mget_input\u001b[49m\u001b[43m(\u001b[49m\u001b[38;5;28;43mself\u001b[39;49m\u001b[38;5;241;43m.\u001b[39;49m\u001b[43mconsole\u001b[49m\u001b[43m,\u001b[49m\u001b[43m \u001b[49m\u001b[43mprompt\u001b[49m\u001b[43m,\u001b[49m\u001b[43m \u001b[49m\u001b[38;5;28;43mself\u001b[39;49m\u001b[38;5;241;43m.\u001b[39;49m\u001b[43mpassword\u001b[49m\u001b[43m,\u001b[49m\u001b[43m \u001b[49m\u001b[43mstream\u001b[49m\u001b[38;5;241;43m=\u001b[39;49m\u001b[43mstream\u001b[49m\u001b[43m)\u001b[49m\n\u001b[1;32m    293\u001b[0m \u001b[38;5;28;01mif\u001b[39;00m value \u001b[38;5;241m==\u001b[39m \u001b[38;5;124m\"\u001b[39m\u001b[38;5;124m\"\u001b[39m \u001b[38;5;129;01mand\u001b[39;00m default \u001b[38;5;241m!=\u001b[39m \u001b[38;5;241m.\u001b[39m\u001b[38;5;241m.\u001b[39m\u001b[38;5;241m.\u001b[39m:\n\u001b[1;32m    294\u001b[0m     \u001b[38;5;28;01mreturn\u001b[39;00m default\n",
      "File \u001b[0;32m~/projects/npcs/npc/.venv/lib/python3.11/site-packages/rich/prompt.py:211\u001b[0m, in \u001b[0;36mPromptBase.get_input\u001b[0;34m(cls, console, prompt, password, stream)\u001b[0m\n\u001b[1;32m    193\u001b[0m \u001b[38;5;129m@classmethod\u001b[39m\n\u001b[1;32m    194\u001b[0m \u001b[38;5;28;01mdef\u001b[39;00m \u001b[38;5;21mget_input\u001b[39m(\n\u001b[1;32m    195\u001b[0m     \u001b[38;5;28mcls\u001b[39m,\n\u001b[0;32m   (...)\u001b[0m\n\u001b[1;32m    199\u001b[0m     stream: Optional[TextIO] \u001b[38;5;241m=\u001b[39m \u001b[38;5;28;01mNone\u001b[39;00m,\n\u001b[1;32m    200\u001b[0m ) \u001b[38;5;241m-\u001b[39m\u001b[38;5;241m>\u001b[39m \u001b[38;5;28mstr\u001b[39m:\n\u001b[1;32m    201\u001b[0m \u001b[38;5;250m    \u001b[39m\u001b[38;5;124;03m\"\"\"Get input from user.\u001b[39;00m\n\u001b[1;32m    202\u001b[0m \n\u001b[1;32m    203\u001b[0m \u001b[38;5;124;03m    Args:\u001b[39;00m\n\u001b[0;32m   (...)\u001b[0m\n\u001b[1;32m    209\u001b[0m \u001b[38;5;124;03m        str: String from user.\u001b[39;00m\n\u001b[1;32m    210\u001b[0m \u001b[38;5;124;03m    \"\"\"\u001b[39;00m\n\u001b[0;32m--> 211\u001b[0m     \u001b[38;5;28;01mreturn\u001b[39;00m \u001b[43mconsole\u001b[49m\u001b[38;5;241;43m.\u001b[39;49m\u001b[43minput\u001b[49m\u001b[43m(\u001b[49m\u001b[43mprompt\u001b[49m\u001b[43m,\u001b[49m\u001b[43m \u001b[49m\u001b[43mpassword\u001b[49m\u001b[38;5;241;43m=\u001b[39;49m\u001b[43mpassword\u001b[49m\u001b[43m,\u001b[49m\u001b[43m \u001b[49m\u001b[43mstream\u001b[49m\u001b[38;5;241;43m=\u001b[39;49m\u001b[43mstream\u001b[49m\u001b[43m)\u001b[49m\n",
      "File \u001b[0;32m~/projects/npcs/npc/.venv/lib/python3.11/site-packages/rich/console.py:2156\u001b[0m, in \u001b[0;36mConsole.input\u001b[0;34m(self, prompt, markup, emoji, password, stream)\u001b[0m\n\u001b[1;32m   2154\u001b[0m         result \u001b[38;5;241m=\u001b[39m stream\u001b[38;5;241m.\u001b[39mreadline()\n\u001b[1;32m   2155\u001b[0m     \u001b[38;5;28;01melse\u001b[39;00m:\n\u001b[0;32m-> 2156\u001b[0m         result \u001b[38;5;241m=\u001b[39m \u001b[38;5;28;43minput\u001b[39;49m\u001b[43m(\u001b[49m\u001b[43m)\u001b[49m\n\u001b[1;32m   2157\u001b[0m \u001b[38;5;28;01mreturn\u001b[39;00m result\n",
      "File \u001b[0;32m~/projects/npcs/npc/.venv/lib/python3.11/site-packages/ipykernel/kernelbase.py:1282\u001b[0m, in \u001b[0;36mKernel.raw_input\u001b[0;34m(self, prompt)\u001b[0m\n\u001b[1;32m   1280\u001b[0m     msg \u001b[38;5;241m=\u001b[39m \u001b[38;5;124m\"\u001b[39m\u001b[38;5;124mraw_input was called, but this frontend does not support input requests.\u001b[39m\u001b[38;5;124m\"\u001b[39m\n\u001b[1;32m   1281\u001b[0m     \u001b[38;5;28;01mraise\u001b[39;00m StdinNotImplementedError(msg)\n\u001b[0;32m-> 1282\u001b[0m \u001b[38;5;28;01mreturn\u001b[39;00m \u001b[38;5;28;43mself\u001b[39;49m\u001b[38;5;241;43m.\u001b[39;49m\u001b[43m_input_request\u001b[49m\u001b[43m(\u001b[49m\n\u001b[1;32m   1283\u001b[0m \u001b[43m    \u001b[49m\u001b[38;5;28;43mstr\u001b[39;49m\u001b[43m(\u001b[49m\u001b[43mprompt\u001b[49m\u001b[43m)\u001b[49m\u001b[43m,\u001b[49m\n\u001b[1;32m   1284\u001b[0m \u001b[43m    \u001b[49m\u001b[38;5;28;43mself\u001b[39;49m\u001b[38;5;241;43m.\u001b[39;49m\u001b[43m_parent_ident\u001b[49m\u001b[43m[\u001b[49m\u001b[38;5;124;43m\"\u001b[39;49m\u001b[38;5;124;43mshell\u001b[39;49m\u001b[38;5;124;43m\"\u001b[39;49m\u001b[43m]\u001b[49m\u001b[43m,\u001b[49m\n\u001b[1;32m   1285\u001b[0m \u001b[43m    \u001b[49m\u001b[38;5;28;43mself\u001b[39;49m\u001b[38;5;241;43m.\u001b[39;49m\u001b[43mget_parent\u001b[49m\u001b[43m(\u001b[49m\u001b[38;5;124;43m\"\u001b[39;49m\u001b[38;5;124;43mshell\u001b[39;49m\u001b[38;5;124;43m\"\u001b[39;49m\u001b[43m)\u001b[49m\u001b[43m,\u001b[49m\n\u001b[1;32m   1286\u001b[0m \u001b[43m    \u001b[49m\u001b[43mpassword\u001b[49m\u001b[38;5;241;43m=\u001b[39;49m\u001b[38;5;28;43;01mFalse\u001b[39;49;00m\u001b[43m,\u001b[49m\n\u001b[1;32m   1287\u001b[0m \u001b[43m\u001b[49m\u001b[43m)\u001b[49m\n",
      "File \u001b[0;32m~/projects/npcs/npc/.venv/lib/python3.11/site-packages/ipykernel/kernelbase.py:1325\u001b[0m, in \u001b[0;36mKernel._input_request\u001b[0;34m(self, prompt, ident, parent, password)\u001b[0m\n\u001b[1;32m   1322\u001b[0m \u001b[38;5;28;01mexcept\u001b[39;00m \u001b[38;5;167;01mKeyboardInterrupt\u001b[39;00m:\n\u001b[1;32m   1323\u001b[0m     \u001b[38;5;66;03m# re-raise KeyboardInterrupt, to truncate traceback\u001b[39;00m\n\u001b[1;32m   1324\u001b[0m     msg \u001b[38;5;241m=\u001b[39m \u001b[38;5;124m\"\u001b[39m\u001b[38;5;124mInterrupted by user\u001b[39m\u001b[38;5;124m\"\u001b[39m\n\u001b[0;32m-> 1325\u001b[0m     \u001b[38;5;28;01mraise\u001b[39;00m \u001b[38;5;167;01mKeyboardInterrupt\u001b[39;00m(msg) \u001b[38;5;28;01mfrom\u001b[39;00m \u001b[38;5;28;01mNone\u001b[39;00m\n\u001b[1;32m   1326\u001b[0m \u001b[38;5;28;01mexcept\u001b[39;00m \u001b[38;5;167;01mException\u001b[39;00m:\n\u001b[1;32m   1327\u001b[0m     \u001b[38;5;28mself\u001b[39m\u001b[38;5;241m.\u001b[39mlog\u001b[38;5;241m.\u001b[39mwarning(\u001b[38;5;124m\"\u001b[39m\u001b[38;5;124mInvalid Message:\u001b[39m\u001b[38;5;124m\"\u001b[39m, exc_info\u001b[38;5;241m=\u001b[39m\u001b[38;5;28;01mTrue\u001b[39;00m)\n",
      "\u001b[0;31mKeyboardInterrupt\u001b[0m: Interrupted by user"
     ]
    }
   ],
   "source": [
    "from rich.console import Console\n",
    "from rich.markdown import Markdown\n",
    "from rich.panel import Panel\n",
    "from rich.prompt import IntPrompt\n",
    "\n",
    "console = Console()\n",
    "\n",
    "def print_wrapped_text(text: str):\n",
    "    console.print(Markdown(text))\n",
    "\n",
    "while not simulator.is_story_ended():\n",
    "    state = simulator.state\n",
    "\n",
    "    # Display the current game state\n",
    "    console.rule(\"Game State\", style=\"cyan\")\n",
    "    print_wrapped_text(state.observation)\n",
    "\n",
    "    # Display available actions\n",
    "    action_text = \"\\n\\n\".join([f\"**Option {i}**  \\n{action}\" for i, action in state.available_actions.items()])\n",
    "    actions_panel = Panel(Markdown(action_text), title=\"[bold cyan]Available Actions[/bold cyan]\", border_style=\"bright_blue\")\n",
    "    console.print(actions_panel)\n",
    "\n",
    "    # Take an action\n",
    "    action_index = IntPrompt.ask(\"Choose an action\", choices=[str(i) for i in state.available_actions.keys()])\n",
    "    console.print(f\"\\nYou chose: [bold green]Option {action_index}[/bold green]\\n\")\n",
    "    new_game_state = simulator.take_action(action_index)"
   ]
  }
 ],
 "metadata": {
  "kernelspec": {
   "display_name": ".venv",
   "language": "python",
   "name": "python3"
  },
  "language_info": {
   "codemirror_mode": {
    "name": "ipython",
    "version": 3
   },
   "file_extension": ".py",
   "mimetype": "text/x-python",
   "name": "python",
   "nbconvert_exporter": "python",
   "pygments_lexer": "ipython3",
   "version": "3.11.9"
  }
 },
 "nbformat": 4,
 "nbformat_minor": 2
}

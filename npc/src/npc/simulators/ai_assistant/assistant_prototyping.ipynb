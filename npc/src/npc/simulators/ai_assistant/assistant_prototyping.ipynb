{
 "cells": [
  {
   "cell_type": "markdown",
   "metadata": {},
   "source": [
    "# Assistant testing"
   ]
  },
  {
   "cell_type": "code",
   "execution_count": null,
   "metadata": {},
   "outputs": [],
   "source": [
    "%load_ext autoreload\n",
    "%autoreload 2"
   ]
  },
  {
   "cell_type": "code",
   "execution_count": null,
   "metadata": {},
   "outputs": [],
   "source": [
    "import pprint\n",
    "\n",
    "from npc.apis.gmail_client import GmailClient, GmailSearchOptions, GmailThread\n",
    "from npc.apis.llm_client import Model\n",
    "from npc.prompts.ai_assistant.email_action_template import EmailDestination\n",
    "from npc.simulators.ai_assistant.tools.email_briefing_generator import EmailBriefingGenerator\n",
    "from npc.simulators.ai_assistant.tools.email_summarizer import EmailSummarizer\n",
    "from npc.simulators.ai_assistant.tools.inbox_manager import InboxManager, InboxManagerShell"
   ]
  },
  {
   "cell_type": "code",
   "execution_count": null,
   "metadata": {},
   "outputs": [],
   "source": [
    "gmail_client = GmailClient()\n",
    "\n",
    "max_threads = 5\n",
    "unread_threads = gmail_client.retrieve_threads(\n",
    "    GmailSearchOptions(unread=True),\n",
    "    max_results=max_threads,\n",
    ")\n",
    "\n",
    "def email_str(thread: GmailThread):\n",
    "    email = gmail_client.get_latest_email(thread)\n",
    "    return f\"{email.subject}\\nFrom: {email.sender}\"\n",
    "print(\"\\n\\n\".join([email_str(email) for email in unread_threads]))"
   ]
  },
  {
   "cell_type": "code",
   "execution_count": null,
   "metadata": {},
   "outputs": [],
   "source": [
    "email_summarizer = EmailSummarizer(Model.HAIKU)\n",
    "for i in range(max_threads):\n",
    "    email = gmail_client.get_latest_email(unread_threads[i])\n",
    "    pprint.pprint(email_summarizer.summarize(email), width=140)"
   ]
  },
  {
   "cell_type": "code",
   "execution_count": null,
   "metadata": {},
   "outputs": [],
   "source": [
    "email_briefing_generator = EmailBriefingGenerator(Model.SONNET, email_summarizer)\n",
    "# email_briefing_generator = EmailBriefingGenerator(Model.HAIKU, email_summarizer)\n",
    "briefing = email_briefing_generator.generate_briefing(unread_threads)\n",
    "\n",
    "from rich.console import Console\n",
    "from rich.markdown import Markdown\n",
    "from rich.panel import Panel\n",
    "console = Console()\n",
    "console.print(Panel(\n",
    "    Markdown(briefing),\n",
    "    title=\"[bold cyan]Email Briefing[/bold cyan]\",\n",
    "    border_style=\"bright_blue\"\n",
    "))"
   ]
  },
  {
   "cell_type": "code",
   "execution_count": null,
   "metadata": {},
   "outputs": [],
   "source": [
    "label_ids = {\n",
    "    \"CATEGORY_PERSONAL\": \"CATEGORY_PERSONAL\",\n",
    "    \"CATEGORY_PROMOTIONS\": \"CATEGORY_PROMOTIONS\",\n",
    "    \"CATEGORY_SOCIAL\": \"CATEGORY_SOCIAL\",\n",
    "    \"CATEGORY_UPDATES\": \"CATEGORY_UPDATES\",\n",
    "    \"IMPORTANT\": \"IMPORTANT\",\n",
    "    \"INBOX\": \"INBOX\",\n",
    "    \"Saved Emails/Receipts\": \"Label_11\",\n",
    "    \"Saved Emails/Newsletters\": \"Label_390122604015354833\",\n",
    "    \"To Delete\": \"Label_6230125154949725760\",\n",
    "    \"UNREAD\": \"UNREAD\",\n",
    "}\n",
    "label_mapping = {\n",
    "    EmailDestination.NEWSLETTER: \"Saved Emails/Newsletters\",\n",
    "    EmailDestination.BUSINESS_TRANSACTION: \"Saved Emails/Receipts\",\n",
    "    EmailDestination.ARCHIVE: None,\n",
    "    EmailDestination.DELETE: \"To Delete\",\n",
    "    EmailDestination.INBOX: \"INBOX\",\n",
    "}\n",
    "label_mapping = {k: label_ids.get(v) for k, v in label_mapping.items()}\n",
    "\n",
    "inbox_manager = InboxManager(Model.HAIKU, email_summarizer, gmail_client, label_mapping)\n",
    "\n",
    "inbox_manager_shell = InboxManagerShell(inbox_manager, unread_threads)\n",
    "executed_actions = inbox_manager_shell.run()"
   ]
  },
  {
   "cell_type": "markdown",
   "metadata": {},
   "source": [
    "# Experimentation"
   ]
  },
  {
   "cell_type": "code",
   "execution_count": null,
   "metadata": {},
   "outputs": [],
   "source": [
    "from npc.apis.gmail_client import ezgmail\n",
    "\n",
    "all_threads = ezgmail.search('')\n",
    "all_labels = set()\n",
    "\n",
    "# First get all label IDs\n",
    "for thread in all_threads:\n",
    "    for message in thread.messages:\n",
    "        all_labels.update(message.messageObj['labelIds'])\n",
    "\n",
    "# Get the mapping of label IDs to names\n",
    "labels_response = ezgmail.SERVICE_GMAIL.users().labels().list(userId='me').execute()\n",
    "label_dict = {label['id']: label['name'] for label in labels_response['labels']}\n",
    "\n",
    "# Print labels using their names\n",
    "print(\"Available labels:\")\n",
    "for label_id in sorted(all_labels):\n",
    "    if label_id in label_dict:\n",
    "        print(label_id, label_dict[label_id])"
   ]
  }
 ],
 "metadata": {
  "kernelspec": {
   "display_name": ".venv",
   "language": "python",
   "name": "python3"
  },
  "language_info": {
   "codemirror_mode": {
    "name": "ipython",
    "version": 3
   },
   "file_extension": ".py",
   "mimetype": "text/x-python",
   "name": "python",
   "nbconvert_exporter": "python",
   "pygments_lexer": "ipython3",
   "version": "3.11.9"
  }
 },
 "nbformat": 4,
 "nbformat_minor": 2
}

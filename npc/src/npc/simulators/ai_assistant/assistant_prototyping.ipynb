{
 "cells": [
  {
   "cell_type": "markdown",
   "metadata": {},
   "source": [
    "# Assistant testing"
   ]
  },
  {
   "cell_type": "code",
   "execution_count": null,
   "metadata": {},
   "outputs": [],
   "source": [
    "%load_ext autoreload\n",
    "%autoreload 2"
   ]
  },
  {
   "cell_type": "code",
   "execution_count": null,
   "metadata": {},
   "outputs": [],
   "source": [
    "import pprint\n",
    "\n",
    "from npc.apis.gmail_client import GmailClient, GmailSearchOptions\n",
    "from npc.apis.llm_client import Model\n",
    "from npc.simulators.ai_assistant.tools.email_briefing_generator import EmailBriefingGenerator\n",
    "from npc.simulators.ai_assistant.tools.email_summarizer import EmailSummarizer\n",
    "from npc.simulators.ai_assistant.tools.inbox_manager import InboxManager"
   ]
  },
  {
   "cell_type": "code",
   "execution_count": null,
   "metadata": {},
   "outputs": [],
   "source": [
    "gmail_client = GmailClient()\n",
    "\n",
    "max_emails = 50\n",
    "unread_inbox = gmail_client.retrieve_emails(\n",
    "    GmailSearchOptions(unread=True),\n",
    "    max_results=max_emails,\n",
    ")\n",
    "\n",
    "def email_str(email):\n",
    "    return f\"{email.subject}\\nFrom: {email.sender}\"\n",
    "print(\"\\n\\n\".join([email_str(email) for email in unread_inbox]))"
   ]
  },
  {
   "cell_type": "code",
   "execution_count": null,
   "metadata": {},
   "outputs": [],
   "source": [
    "email_summarizer = EmailSummarizer(Model.HAIKU)\n",
    "for i in range(max_emails):\n",
    "    pprint.pprint(email_summarizer.summarize(unread_inbox[i]), width=140)"
   ]
  },
  {
   "cell_type": "code",
   "execution_count": null,
   "metadata": {},
   "outputs": [],
   "source": [
    "# email_briefing_generator = EmailBriefingGenerator(Model.SONNET, email_summarizer)\n",
    "email_briefing_generator = EmailBriefingGenerator(Model.HAIKU, email_summarizer)\n",
    "briefing = email_briefing_generator.generate_briefing(unread_inbox)"
   ]
  },
  {
   "cell_type": "code",
   "execution_count": null,
   "metadata": {},
   "outputs": [],
   "source": [
    "from rich.console import Console\n",
    "from rich.markdown import Markdown\n",
    "from rich.panel import Panel\n",
    "\n",
    "console = Console()\n",
    "console.print(Panel(\n",
    "    Markdown(briefing),\n",
    "    title=\"[bold cyan]Email Briefing[/bold cyan]\",\n",
    "    border_style=\"bright_blue\"\n",
    "))"
   ]
  },
  {
   "cell_type": "code",
   "execution_count": null,
   "metadata": {},
   "outputs": [],
   "source": [
    "inbox_manager = InboxManager(Model.HAIKU, email_summarizer)\n",
    "inbox_manager.manage_inbox(unread_inbox)"
   ]
  }
 ],
 "metadata": {
  "kernelspec": {
   "display_name": ".venv",
   "language": "python",
   "name": "python3"
  },
  "language_info": {
   "codemirror_mode": {
    "name": "ipython",
    "version": 3
   },
   "file_extension": ".py",
   "mimetype": "text/x-python",
   "name": "python",
   "nbconvert_exporter": "python",
   "pygments_lexer": "ipython3",
   "version": "3.12.3"
  }
 },
 "nbformat": 4,
 "nbformat_minor": 2
}

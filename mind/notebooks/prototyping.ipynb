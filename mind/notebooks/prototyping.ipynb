{
 "cells": [
  {
   "cell_type": "code",
   "execution_count": null,
   "metadata": {},
   "outputs": [],
   "source": [
    "%load_ext autoreload\n",
    "%autoreload 2"
   ]
  },
  {
   "cell_type": "markdown",
   "metadata": {},
   "source": [
    "# NPC Agent Prototyping"
   ]
  },
  {
   "cell_type": "code",
   "execution_count": null,
   "metadata": {},
   "outputs": [],
   "source": [
    "from npc.apis.llm_client import LLMFunction, Model"
   ]
  },
  {
   "cell_type": "code",
   "execution_count": null,
   "metadata": {},
   "outputs": [],
   "source": [
    "small_llm = Model.GEMINI_FLASH\n",
    "large_llm = Model.SONNET"
   ]
  },
  {
   "cell_type": "code",
   "execution_count": null,
   "metadata": {},
   "outputs": [],
   "source": [
    "small_llm.get_response(\"What is the capital of France?\")"
   ]
  },
  {
   "cell_type": "markdown",
   "metadata": {},
   "source": [
    "## Memory Database Testing"
   ]
  },
  {
   "cell_type": "code",
   "execution_count": null,
   "metadata": {},
   "outputs": [],
   "source": [
    "from npc.agent.memory_database import MemoryDatabase\n",
    "\n",
    "# Test memory database\n",
    "memories = [\n",
    "    \"I am a human.\",\n",
    "    \"I had an apple for breakfast.\",\n",
    "    \"My name is John.\",\n",
    "    \"My favorite color is blue.\",\n",
    "    \"I have a pet cat.\",\n",
    "    \"I am 25 years old.\",\n",
    "    \"I am a software engineer.\",\n",
    "]\n",
    "\n",
    "db = MemoryDatabase(memories)"
   ]
  },
  {
   "cell_type": "code",
   "execution_count": null,
   "metadata": {},
   "outputs": [],
   "source": [
    "# Test retrieval\n",
    "query = \"What did I have for breakfast?\"\n",
    "results = db.retrieve(query, top_k=3)\n",
    "for result in results:\n",
    "    print(result)"
   ]
  },
  {
   "cell_type": "code",
   "execution_count": null,
   "metadata": {},
   "outputs": [],
   "source": [
    "# Test adding new memories\n",
    "db.add_memories([\"I had a salad for lunch.\"])\n",
    "results = db.retrieve(\"What did I have for lunch?\", top_k=3)\n",
    "for result in results:\n",
    "    print(result)"
   ]
  },
  {
   "cell_type": "markdown",
   "metadata": {},
   "source": [
    "## Text Adventure Testing"
   ]
  },
  {
   "cell_type": "code",
   "execution_count": null,
   "metadata": {},
   "outputs": [],
   "source": [
    "from npc.agent.agent import Agent, AgentLLMConfig\n",
    "from npc.simulators.text_adventure import (\n",
    "    TextAdventureSimulator,\n",
    "    run_interactive_story,\n",
    "    run_agent_playthrough,\n",
    "    print_story_nodes\n",
    ")"
   ]
  },
  {
   "cell_type": "markdown",
   "metadata": {},
   "source": [
    "### Test Agent Gameplay"
   ]
  },
  {
   "cell_type": "code",
   "execution_count": null,
   "metadata": {},
   "outputs": [],
   "source": [
    "story_request = \"The story should involve unicorns and rainbows, but have a noir detective theme.\"\n",
    "simulator = TextAdventureSimulator(small_llm, story_request)\n",
    "llm_config = AgentLLMConfig(small_llm, small_llm)\n",
    "\n",
    "# Run automated simulation with agent\n",
    "run_agent_playthrough(simulator, llm_config, max_steps=2)"
   ]
  },
  {
   "cell_type": "markdown",
   "metadata": {},
   "source": [
    "### Test Human Interface"
   ]
  },
  {
   "cell_type": "code",
   "execution_count": null,
   "metadata": {},
   "outputs": [],
   "source": [
    "def bootstrap_test_agent():\n",
    "    \"\"\"Generate a consistent set of test data for an agent\"\"\"\n",
    "    # TODO: Implement this\n",
    "    pass\n",
    "\n",
    "def test_agent():\n",
    "    \"\"\"Run agent tests with standard test cases\"\"\"\n",
    "    # TODO: Implement this\n",
    "    pass"
   ]
  },
  {
   "cell_type": "markdown",
   "metadata": {},
   "source": [
    "## Future Work\n",
    "\n",
    "TODO:\n",
    "- Implement agent bootstrapping to generate consistent test data\n",
    "- Add evaluation methodology\n",
    "- Consider genetic algorithm optimization of agent architecture\n",
    "- Add async long-term memory updates\n",
    "- Implement magnitude estimation for memory importance\n",
    "- Add LLM filtering/reranking for memory retrieval\n",
    "- Replace print statements with proper logging\n",
    "- Add error recovery for JSON validation errors"
   ]
  }
 ],
 "metadata": {
  "kernelspec": {
   "display_name": "npc-py3.12",
   "language": "python",
   "name": "python3"
  },
  "language_info": {
   "codemirror_mode": {
    "name": "ipython",
    "version": 3
   },
   "file_extension": ".py",
   "mimetype": "text/x-python",
   "name": "python",
   "nbconvert_exporter": "python",
   "pygments_lexer": "ipython3",
   "version": "3.12.3"
  }
 },
 "nbformat": 4,
 "nbformat_minor": 2
}
